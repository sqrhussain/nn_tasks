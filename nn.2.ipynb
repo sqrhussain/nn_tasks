{
 "cells": [
  {
   "cell_type": "markdown",
   "metadata": {},
   "source": [
    "# Neural Networks\n",
    "## Task 2\n",
    "### Kmeid Saad, Hussain Hussain"
   ]
  },
  {
   "cell_type": "code",
   "execution_count": 177,
   "metadata": {},
   "outputs": [],
   "source": [
    "# %load nn17_ex2_load.py\n",
    "import pickle as pckl  # to load dataset\n",
    "import matplotlib.pyplot as plt\n",
    "#import pylab as pl     # for graphics\n",
    "import numpy as np    \n",
    "\n",
    "get_ipython().magic('matplotlib inline')"
   ]
  },
  {
   "cell_type": "markdown",
   "metadata": {},
   "source": [
    "### Reading Data"
   ]
  },
  {
   "cell_type": "code",
   "execution_count": 178,
   "metadata": {},
   "outputs": [],
   "source": [
    "\n",
    "plt.close('all')   # closes all previous figures\n",
    "\n",
    "# Load dataset\n",
    "file_in = open('vehicle.pkl','rb')\n",
    "vehicle_data = pckl.load(file_in)\n",
    "file_in.close()\n",
    "\n",
    "# Training set\n",
    "X = vehicle_data['train']['X']  # features; X[i,j]...feature j of example i\n",
    "C = vehicle_data['train']['C']  # classes; C[i]...class of example i\n",
    "# Test set\n",
    "Xtst = vehicle_data['test']['X']  # features\n",
    "Ctst = vehicle_data['test']['C']  # classes"
   ]
  },
  {
   "cell_type": "markdown",
   "metadata": {},
   "source": [
    "Model Data, In Exercise Sheet 2 we only need to take in consideration\n",
    "SAAB (C = 2) and BUS(C = 3)\n",
    "In this step I extract the SAAB and BUS Class for training and testing data sets\n",
    "Also changed the class number to 1 and 0 respectively"
   ]
  },
  {
   "cell_type": "code",
   "execution_count": 179,
   "metadata": {},
   "outputs": [],
   "source": [
    "X_train = []\n",
    "C_train = []\n",
    "\n",
    "X_test = []\n",
    "C_test = []\n",
    "for i in range(len(X)):\n",
    "        \n",
    "        # SAAB Class (Train set)\n",
    "        if(C[i] == 2):\n",
    "            #print(\"SAAB: \", i)\n",
    "            X_train.append(X[i])\n",
    "            C_train.append(1)\n",
    "            \n",
    "        # BUS Class (Train set)\n",
    "        if(C[i] == 3):\n",
    "            #print(\"BUS: \", i)\n",
    "            X_train.append(X[i])\n",
    "            C_train.append(0)\n",
    "            \n",
    "for i in range(len(Xtst)):\n",
    "        \n",
    "        # SAAB Class (Train set)\n",
    "        if(Ctst[i] == 2):\n",
    "            #print(\"SAAB: \", i)\n",
    "            X_test.append(Xtst[i])\n",
    "            C_test.append(1)\n",
    "            \n",
    "        # BUS Class (Train set)\n",
    "        if(Ctst[i] == 3):\n",
    "            #print(\"BUS: \", i)\n",
    "            X_test.append(Xtst[i])\n",
    "            C_test.append(0)\n",
    "    \n",
    "X_train = np.asanyarray(X_train)\n",
    "X_test = np.asanyarray(X_test)\n",
    "C_train = np.asanyarray(C_train)\n",
    "C_test = np.asanyarray(C_test)\n",
    "\n",
    "\n",
    "# shuffle Training and Testing data\n",
    "limit_1 = np.random.permutation(np.arange(0, len(X_train)))\n",
    "limit_2 = np.random.permutation(np.arange(0, len(X_test)))\n",
    "\n",
    "X_train, C_train = X_train[limit_1], C_train[limit_1]\n",
    "X_test, C_test = X_test[limit_2], C_test[limit_2]"
   ]
  },
  {
   "cell_type": "markdown",
   "metadata": {},
   "source": [
    "# Probabilistic Generative Model approach"
   ]
  },
  {
   "cell_type": "code",
   "execution_count": 180,
   "metadata": {},
   "outputs": [],
   "source": [
    "\n",
    "\n",
    "\n",
    "# Model Data, In Exercise Sheet 2 we only need to take in consideration\n",
    "# SAAB (C = 2) and BUS(C = 3)\n",
    "#In this step I extract the SAAB and BUS Class\n",
    "X_saab = []\n",
    "X_bus = []   \n",
    "C_saab = []\n",
    "C_bus = []\n",
    "\n",
    "Xtst_saab = []\n",
    "Xtst_bus = []    \n",
    "Ctst_saab = []\n",
    "Ctst_bus = []  \n",
    "def separateByClass(Train_dataset, Train_Class, Test_dataset, Test_Class):  \n",
    "    \n",
    "    ## IF WE DELETED THIS SNIPPET, THE NORMALIZED VERSION WILL DO THE SAME AS NON NORMALIZED ONE\n",
    "    global X_saab,X_bus,C_saab,C_bus,Xtst_saab,Xtst_bus,Ctst_saab,Ctst_bus\n",
    "    X_saab = []\n",
    "    X_bus = []   \n",
    "    C_saab = []\n",
    "    C_bus = []\n",
    "\n",
    "    Xtst_saab = []\n",
    "    Xtst_bus = []    \n",
    "    Ctst_saab = []\n",
    "    Ctst_bus = []  \n",
    "    #############################################################################################\n",
    "   # for i in range(len(Train_dataset)):        \n",
    "    \n",
    "    for i in range(len(Train_dataset)):\n",
    "        # SAAB Class (Train set)\n",
    "        if(Train_Class[i] == 1):\n",
    "            X_saab.append(Train_dataset[i])\n",
    "            C_saab.append(1)\n",
    "        # BUS Class (Train set)\n",
    "        if(Train_Class[i] == 0):\n",
    "            X_bus.append(Train_dataset[i])\n",
    "            C_bus.append(0)\n",
    "        \n",
    "    for i in range(len(Test_dataset)):\n",
    "        \n",
    "        # SAAB Class (Test set)\n",
    "        if(Test_Class[i] == 1):\n",
    "            Xtst_saab.append(Test_dataset[i])\n",
    "            Ctst_saab.append(1)\n",
    "        # BUS Class (Test set)\n",
    "        if(Test_Class[i] == 0):\n",
    "            Xtst_bus.append(Test_dataset[i])\n",
    "            Ctst_bus.append(0)\n",
    "    return(\"...\")        "
   ]
  },
  {
   "cell_type": "code",
   "execution_count": 181,
   "metadata": {},
   "outputs": [
    {
     "name": "stdout",
     "output_type": "stream",
     "text": [
      "Total Number of New Training data =  286\n",
      "Number of New Features            =  18\n",
      "Classes of New Training data      =  2\n",
      "...\n",
      "Total Number of New Testing data =  149\n",
      "Number of New Features           =  18\n",
      "Classes of New Testing data     =  2\n",
      "...\n",
      "Total Number of SAAB Training data =  135\n",
      "Number of New SAAB Features        =  18\n",
      "Classes of New SAAB Training data  =  1\n",
      "....\n",
      "Total Number of BUS Training data  =  151\n",
      "Number of New BUS Features         =  18\n",
      "Classes of New BUS Training data   =  1\n",
      "....\n",
      "Total Number of SAAB Testing data =  82\n",
      "Number of New SAAB Features        =  18\n",
      "Classes of New SAAB Training data  =  1\n",
      "....\n",
      "Total Number of BUS Testing data  =  67\n",
      "Number of New BUS Features         =  18\n",
      "Classes of New BUS Testing data   =  1\n"
     ]
    }
   ],
   "source": [
    "\n",
    "\n",
    "separateByClass(X_train,C_train,X_test,C_test)\n",
    "\n",
    "# Print New Training Data Info\n",
    "print(\"Total Number of New Training data = \", len(X_train))\n",
    "print(\"Number of New Features            = \", len(X_train[1]))\n",
    "print(\"Classes of New Training data      = \", len(np.unique(C_train)))\n",
    "print(\"...\")\n",
    "## Print Test Data Info\n",
    "print(\"Total Number of New Testing data = \", len(X_test))\n",
    "print(\"Number of New Features           = \", len(X_test[1]))\n",
    "print(\"Classes of New Testing data     = \", len(np.unique(C_test)))\n",
    "print(\"...\")\n",
    "## Print New Training Classes Data Info\n",
    "print(\"Total Number of SAAB Training data = \", len(X_saab))\n",
    "print(\"Number of New SAAB Features        = \", len(X_saab[1]))\n",
    "print(\"Classes of New SAAB Training data  = \", len(np.unique(C_saab)))\n",
    "print(\"....\")\n",
    "print(\"Total Number of BUS Training data  = \", len(X_bus))\n",
    "print(\"Number of New BUS Features         = \", len(X_bus[1]))\n",
    "print(\"Classes of New BUS Training data   = \", len(np.unique(C_bus)))\n",
    "print(\"....\")\n",
    "## Print New Testing Classes Data Info\n",
    "print(\"Total Number of SAAB Testing data = \", len(Xtst_saab))\n",
    "print(\"Number of New SAAB Features        = \", len(Xtst_saab[1]))\n",
    "print(\"Classes of New SAAB Training data  = \", len(np.unique(Ctst_saab)))\n",
    "print(\"....\")\n",
    "print(\"Total Number of BUS Testing data  = \", len(Xtst_bus))\n",
    "print(\"Number of New BUS Features         = \", len(Xtst_bus[1]))\n",
    "print(\"Classes of New BUS Testing data   = \", len(np.unique(Ctst_bus)))"
   ]
  },
  {
   "cell_type": "code",
   "execution_count": 186,
   "metadata": {},
   "outputs": [],
   "source": [
    "\n",
    "# Parameter Estimation of generative model\n",
    "\n",
    "def prob_gen(X_train,C_train,X_test,C_test, normalize = False):\n",
    "    \n",
    "    # normalization option\n",
    "    if normalize:\n",
    "        # normalize training data\n",
    "        mu = X_train.mean(axis=0)\n",
    "        X_train = X_train - mu\n",
    "        std = X_train.std(axis=0)\n",
    "        X_train = X_train / std\n",
    "        # normalize test data\n",
    "        X_test = X_test - mu\n",
    "        X_test = X_test / std\n",
    "    \n",
    "    separateByClass(X_train,C_train,X_test,C_test)\n",
    "    \n",
    "\n",
    "\n",
    "    prior_saab = len(X_saab)/len(X_train)\n",
    "    prior_bus =len(X_bus)/len(X_train)\n",
    "\n",
    "    means_saab = np.mean(X_saab, axis=0)\n",
    "    means_bus = np.mean(X_bus, axis=0)\n",
    "\n",
    "\n",
    "    S_1 = np.zeros((18,18))\n",
    "    S_2 = np.zeros((18,18))\n",
    "    for line in X_saab:\n",
    "        S_1 += (np.outer((line-means_saab),(line-means_saab)))/len(X_saab)\n",
    "\n",
    "    for line in X_bus:\n",
    "        S_2 += (np.outer((line-means_bus),(line-means_saab)))/len(X_bus)\n",
    "\n",
    "    sigma = (prior_saab * S_1) + (prior_bus * S_2)\n",
    "    sigma_inv = np.linalg.inv(sigma)\n",
    "    # for class SAAB\n",
    "    #P_SAAB  = []\n",
    "    i = 0;\n",
    "    w_1 = np.dot(sigma_inv,(means_saab-means_bus))\n",
    "\n",
    "    miu_1 = np.dot(np.transpose(means_saab),sigma_inv)\n",
    "    miu_2 = np.dot(np.transpose(means_bus),sigma_inv)\n",
    "    w_0 =((-1.0/2) * np.dot(miu_1,means_saab)) + ((1.0/2) * np.dot(miu_2,means_bus)) + np.log(prior_saab/prior_bus)\n",
    "    \n",
    "    return w_1,w_0"
   ]
  },
  {
   "cell_type": "markdown",
   "metadata": {},
   "source": [
    "### Computing the Posterior"
   ]
  },
  {
   "cell_type": "code",
   "execution_count": 187,
   "metadata": {},
   "outputs": [],
   "source": [
    "\n",
    "def logistic(x):\n",
    "    if x > 0:\n",
    "        return 1. / (1. + np.exp(-x))\n",
    "    else:\n",
    "        return np.exp(x) / (1. + np.exp(x)) \n",
    "\n",
    "\n",
    "def Miss_calcGen(X_train,C_train,w_1,w_0):\n",
    "    missed_res = 0\n",
    "    f = 0\n",
    "    for i in range (X_train.shape[0]):\n",
    "        a=( np.dot(np.transpose(w_1) , X_train[i]) + w_0)\n",
    "        #y = ( 1 / (1 + np.exp(-a)))\n",
    "        y = logistic(a)\n",
    "        #f+=1\n",
    "       # print(y)\n",
    "        if C_train[i] == 1:\n",
    "           # print(\"In C_1\")\n",
    "            if y < 0.5:\n",
    "                missed_res +=1\n",
    "        if C_train[i] == 0:\n",
    "          #  print(\"In C_2\")\n",
    "            if y > 0.5:\n",
    "                missed_res +=1\n",
    "    return (missed_res)\n",
    "    \n",
    "    #P_SAAB.append( 1 / (1 + np.exp(-a)))"
   ]
  },
  {
   "cell_type": "code",
   "execution_count": 188,
   "metadata": {},
   "outputs": [],
   "source": [
    "# In[13]:\n",
    "\n",
    "\n",
    "# % missclasification error:\n",
    "\n",
    "def Per_Missclasification (X_train,C_train,w_1,w_0):\n",
    "    per = Miss_calcGen(X_train,C_train,w_1,w_0) / X_train.shape[0]*100\n",
    "    return(per)"
   ]
  },
  {
   "cell_type": "code",
   "execution_count": 190,
   "metadata": {},
   "outputs": [
    {
     "name": "stdout",
     "output_type": "stream",
     "text": [
      "[  93.87762238   45.21328671   81.91258741  172.25874126   62.36363636\n",
      "    7.87062937  173.87762238   39.48601399   20.94405594  147.34615385\n",
      "  194.53846154  466.91958042  180.0034965    73.81468531    6.08041958\n",
      "   12.74125874  188.6048951   194.38811189]\n",
      "[   9.26432302    5.93672625   15.98478458   31.57302852    7.4810207\n",
      "    4.34774006   33.18715296    7.17012159    2.65834541   13.36401739\n",
      "   32.05159067  182.71313017   32.61531433    7.99588581    4.83618006\n",
      "    8.98616908    6.33680368    8.11842409]\n"
     ]
    },
    {
     "data": {
      "text/plain": [
       "2.013422818791946"
      ]
     },
     "execution_count": 190,
     "metadata": {},
     "output_type": "execute_result"
    }
   ],
   "source": [
    "# build prob gen model\n",
    "w,w0 = prob_gen(X_train,C_train,X_test,C_test)\n",
    "# change here to calculate miss classification for test or for training data\n",
    "Per_Missclasification (X_test,C_test,w,w0)"
   ]
  },
  {
   "cell_type": "code",
   "execution_count": 189,
   "metadata": {},
   "outputs": [
    {
     "name": "stdout",
     "output_type": "stream",
     "text": [
      "[  4.89119235e-16   9.12246192e-18  -3.06669996e-17   1.89970417e-16\n",
      "  -4.39819121e-16  -6.94859865e-17   1.45959391e-16  -7.56970244e-17\n",
      "   3.16374743e-16   5.76340646e-16  -2.80273085e-16  -2.01858732e-17\n",
      "  -1.08110878e-16  -7.17374877e-16  -7.47265497e-17  -3.74603223e-17\n",
      "   1.97785164e-15  -6.80108650e-16]\n",
      "[ 1.  1.  1.  1.  1.  1.  1.  1.  1.  1.  1.  1.  1.  1.  1.  1.  1.  1.]\n"
     ]
    },
    {
     "data": {
      "text/plain": [
       "54.36241610738255"
      ]
     },
     "execution_count": 189,
     "metadata": {},
     "output_type": "execute_result"
    }
   ],
   "source": [
    "\n",
    "# build prob gen model\n",
    "w,w0 = prob_gen(X_train,C_train,X_test,C_test,True)\n",
    "# change here to calculate miss classification for test or for training data\n",
    "Per_Missclasification (X_test,C_test,w,w0)"
   ]
  },
  {
   "cell_type": "markdown",
   "metadata": {},
   "source": [
    "# IRLS"
   ]
  },
  {
   "cell_type": "code",
   "execution_count": 243,
   "metadata": {},
   "outputs": [],
   "source": [
    "# In[416]:\n",
    "\n",
    "\n",
    "#Sigmoied Function, and its derivation\n",
    "def sigmoid(x):\n",
    "    if x > 0:\n",
    "        return 1. / (1. + np.exp(-x))\n",
    "    else:\n",
    "        return np.exp(x) / (1. + np.exp(x)) \n",
    "\n",
    "\n",
    "# In[417]:\n",
    "\n",
    "\n",
    "#direct variable output (sigmoid (W.T*X))\n",
    "def direct_output(var_w,var_x): \n",
    "    var_x = np.dot(np.transpose(var_w),var_x)     \n",
    "    var_y = sigmoid(var_x)\n",
    "    return var_y\n",
    "\n",
    "\n",
    "# In[418]:\n",
    "\n",
    "\n",
    "# The Cost Function - Cross Entropy\n",
    "def CeF(y,t):\n",
    "    if t == 1:\n",
    "        if y == 0.:\n",
    "            y = 0.00000001\n",
    "        return -np.log(y)\n",
    "    else:\n",
    "        if y == 1.:\n",
    "            y = 0.99999999\n",
    "        return -np.log(1-y)\n",
    "\n",
    "\n",
    "# In[419]:\n",
    "\n",
    "\n",
    "# lef the name of the parameters to X_train w_irls C_train, but it actually \n",
    "#depends on how you call the function\n",
    "def Calc_Cef(X_train,w_irls,C_train):\n",
    "    cost = [] #to retain the cost values after computing the output (y)\n",
    "    for i in range(len(X_train)):\n",
    "        y=direct_output(w_irls,X_train[i])\n",
    "        temp = CeF(y,C_train[i])\n",
    "        cost.append(temp)\n",
    "    return sum(cost) #+ np.mean(w_irls[1:19])\n",
    "\n",
    "\n",
    "# In[420]:\n",
    "\n",
    "\n",
    "# Define whether the computed output (y) corresponds to the correct class\n",
    "# here I am actually computing the misclasifications error so the smallest the better!\n",
    "# not to be confused with the accuracy\n",
    "def Miss_calc(X_train,w_irls,C_train):\n",
    "    missed_res = 0\n",
    "    for i in range(len(X_train)):\n",
    "        y=direct_output(w_irls,X_train[i])\n",
    "        if y < 0.5:\n",
    "            temp = 0\n",
    "        else:\n",
    "            temp = 1\n",
    "        if temp == C_train[i]:\n",
    "            missed_res += 1\n",
    "    #print(missed_res)        \n",
    "    return (missed_res)  "
   ]
  },
  {
   "cell_type": "code",
   "execution_count": 320,
   "metadata": {},
   "outputs": [],
   "source": [
    "# In[422]:\n",
    "\n",
    "def IRLS(X_train,C_train,X_test,C_test, normalize = False):\n",
    "    \n",
    "    # normalization option\n",
    "    if normalize:\n",
    "        # normalize training data\n",
    "        mu = X_train.mean(axis=0)\n",
    "        X_train = X_train - mu\n",
    "        std = X_train.std(axis=0)\n",
    "        X_train = X_train / std\n",
    "        # normalize test data\n",
    "        X_test = X_test - mu\n",
    "        X_test = X_test / std\n",
    "    \n",
    "    X_train = np.hstack((np.ones((X_train.shape[0], 1)), X_train))\n",
    "    X_test = np.hstack((np.ones((X_test.shape[0], 1)), X_test))\n",
    "    \n",
    "    features = (X_train.shape[1], 1) #number of features we have for each Image (18, X in the ppt )\n",
    "    w_irls = (np.random.rand(features[0])-0.5) # W initialized + 1 for Bias\n",
    "    print(w_irls)\n",
    "    # Cross entropy error - of the initialized model\n",
    "    # Note: we actually divide the CEE by the number of the training example,\n",
    "    # in order to make the stopping criterion (eps) independant from the\n",
    "    # training set\n",
    "    Train_cost = [Calc_Cef(X_train, w_irls, C_train)/ X_train.shape[0]]\n",
    "    Test_cost = [Calc_Cef(X_test, w_irls, C_test)/ X_test.shape[0]]\n",
    "\n",
    "    \n",
    "    # Miss classification - # Cross entropy error - of the initialized model\n",
    "    Train_miss = [(1. - Miss_calc(X_train, w_irls, C_train) / X_train.shape[0])]\n",
    "    Test_miss = [(1. - Miss_calc(X_test, w_irls, C_test) / X_test.shape[0])]\n",
    "    last_iter = 0\n",
    "    # Arbitrary range\n",
    "    for i in range(0, 100):\n",
    "\n",
    "        Y=[]\n",
    "        Y2=[]\n",
    "        for ii in range(len(X_train)):\n",
    "            y=direct_output(w_irls,X_train[ii])\n",
    "            Y2.append(y)\n",
    "            Y.append(y*(1-y))\n",
    "        R = np.diagflat(Y2)\n",
    "#         print(Y)\n",
    "#         print(w_irls)\n",
    "#         print(np.dot(X_train.T,np.dot(R,X_train)))\n",
    "        xrx = np.linalg.inv(np.dot(X_train.T,np.dot(R,X_train)))\n",
    "        xrxx = np.dot(xrx,X_train.T)\n",
    "        yt = Y2 - C_train\n",
    "        w_irls -= np.dot(xrxx,(yt))\n",
    "        #print(w_irls)\n",
    "        # Calc errors\n",
    "        Train_cost.append(Calc_Cef(X_train, w_irls, C_train)/X_train.shape[0])\n",
    "        Test_cost.append(Calc_Cef(X_test, w_irls, C_test)/X_test.shape[0])\n",
    "\n",
    "        Train_miss.append((1. - Miss_calc(X_train, w_irls, C_train) / X_train.shape[0]))\n",
    "        Test_miss.append((1. - Miss_calc(X_test, w_irls, C_test) / X_test.shape[0]))\n",
    "\n",
    "#         print (\"Loop Number:\",i)\n",
    "#         # print Train, Test cost results\n",
    "#         print(\"Train_cost: {:5.5f}, Test_cost: {:5.5f}\".format(Train_cost[-1], Test_cost[-1]))\n",
    "\n",
    "#         #print Train, Test Missclassification results\n",
    "#         print(\"Train_miss: {:5.5f}, Test_miss: {:5.5f}\".format(Train_miss[-1], Test_miss[-1]))\n",
    "        last_iter = i+1\n",
    "        eps =0.001\n",
    "         #Stoping criteria, break as soon as the cost (i) > cost(i-1)\n",
    "        if np.abs(Train_cost[-1] - Train_cost[-2]) < eps:\n",
    "            print(Train_cost[-1],Train_cost[-2])\n",
    "            break\n",
    "\n",
    "    \n",
    "    plt.figure()\n",
    "    plt.title(\"CECF for IRLS\")\n",
    "    p1, = plt.plot(np.arange(len(Train_cost)), Train_cost, \"b-\")\n",
    "    p2, = plt.plot(np.arange(len(Test_cost)), Test_cost, \"r-\")\n",
    "    plt.legend([p1, p2], [\"Train set\", \"Test set\"])\n",
    "    plt.xlabel(\"Iterations\")\n",
    "\n",
    "    plt.figure()\n",
    "    plt.title(\" Misclassification Rate for IRLS\")\n",
    "    p1, = plt.plot(np.arange(len(Train_miss)), Train_miss, \"b-\")\n",
    "    p2, = plt.plot(np.arange(len(Test_miss)), Test_miss, \"r-\")\n",
    "    plt.legend([p1, p2], [\"Train set\", \"Test set\"])\n",
    "    plt.xlabel(\"Iterations\")\n",
    "    plt.show()\n",
    "    print('Stopped after {} iterations'.format(last_iter))\n",
    "    print(\"Train_cost: {:5.5f}, Test_cost: {:5.5f}\".format(Train_cost[-1], Test_cost[-1]))\n",
    "\n",
    "    #print Train, Test Missclassification results\n",
    "    print(\"Train_miss: {:5.5f}, Test_miss: {:5.5f}\".format(Train_miss[-1], Test_miss[-1]))"
   ]
  },
  {
   "cell_type": "code",
   "execution_count": 327,
   "metadata": {},
   "outputs": [
    {
     "name": "stdout",
     "output_type": "stream",
     "text": [
      "[-0.07522189 -0.47187254  0.0251952   0.16070165 -0.24246046  0.45377792\n",
      "  0.21868386 -0.20349243 -0.19054764  0.25656792  0.02873869 -0.04303408\n",
      "  0.05698867  0.1601489  -0.39855905 -0.12551777  0.37222477  0.17398986\n",
      "  0.28690428]\n",
      "0.0886783154835 0.0896301088252\n"
     ]
    },
    {
     "data": {
      "image/png": "[encoded data removed]",
      "text/plain": [
       "<matplotlib.figure.Figure at 0x7faa8d4dae48>"
      ]
     },
     "metadata": {},
     "output_type": "display_data"
    },
    {
     "data": {
      "image/png": "[encoded data removed]",
      "text/plain": [
       "<matplotlib.figure.Figure at 0x7faa8c17cf28>"
      ]
     },
     "metadata": {},
     "output_type": "display_data"
    },
    {
     "name": "stdout",
     "output_type": "stream",
     "text": [
      "Stopped after 90 iterations\n",
      "Train_cost: 0.08868, Test_cost: 0.21901\n",
      "Train_miss: 0.01748, Test_miss: 0.04027\n"
     ]
    }
   ],
   "source": [
    "IRLS(X_train,C_train,X_test,C_test,normalize=False)"
   ]
  },
  {
   "cell_type": "code",
   "execution_count": 309,
   "metadata": {},
   "outputs": [
    {
     "name": "stdout",
     "output_type": "stream",
     "text": [
      "[-0.30296312 -0.1574719   0.03643724  0.48990709  0.37742335  0.62179609\n",
      "  0.32769737 -0.08754561  0.21659084  0.44032354 -0.10883274 -0.84235315\n",
      "  0.1417353  -0.37693657 -0.83171934  0.98184807 -0.07036773 -0.26172178\n",
      " -0.95007906]\n",
      "0.0831771293926 0.0841459832309\n"
     ]
    },
    {
     "data": {
      "image/png": "[encoded data removed]",
      "text/plain": [
       "<matplotlib.figure.Figure at 0x7faa8d2898d0>"
      ]
     },
     "metadata": {},
     "output_type": "display_data"
    },
    {
     "data": {
      "image/png": "[encoded data removed]",
      "text/plain": [
       "<matplotlib.figure.Figure at 0x7faa8d408630>"
      ]
     },
     "metadata": {},
     "output_type": "display_data"
    },
    {
     "name": "stdout",
     "output_type": "stream",
     "text": [
      "Stopped after 34 iterations\n",
      "Train_cost: 0.08318, Test_cost: 0.08443\n",
      "Train_miss: 0.01748, Test_miss: 0.02685\n"
     ]
    }
   ],
   "source": [
    "IRLS(X_train,C_train,X_test,C_test,normalize=True)"
   ]
  },
  {
   "cell_type": "code",
   "execution_count": 21,
   "metadata": {},
   "outputs": [],
   "source": [
    "# In[ ]:\n",
    "\n",
    "def learn_convergence_edited(X_train,C_train,X_test,C_test):\n",
    "    features = (X_train.shape[1], 1) #number of features we have for each Image (18, X in the ppt )\n",
    "    w_irls = np.zeros(features[0]) # W initialized +1 for Bias\n",
    "    #w_irls[0] = 1\n",
    "    #w_irls = np.random.rand(19)\n",
    "    Train_cost = []\n",
    "    Test_cost=[]\n",
    "    Train_miss=[]\n",
    "    Test_miss=[]\n",
    "    # Arbitrary range\n",
    "    for i in range(0, 100):\n",
    "\n",
    "        Y=[]\n",
    "        Y2=[]\n",
    "        for ii in range(len(X_train)):\n",
    "            y=direct_output(w_irls,X_train[ii])\n",
    "            Y2.append(y)\n",
    "            Y.append(y*(1-y))\n",
    "        R = np.diagflat(Y)\n",
    "        xrx = np.linalg.inv(np.dot(X_train.T,np.dot(R,X_train)))\n",
    "        xrxx = np.dot(xrx,X_train.T)\n",
    "        yt = Y2 - C_train\n",
    "        w_irls -= np.dot(xrxx,(yt))\n",
    "\n",
    "        # Calc errors\n",
    "        Train_cost.append(Calc_Cef(X_train, w_irls, C_train)/X_train.shape[0])\n",
    "        Test_cost.append(Calc_Cef(X_test, w_irls, C_test)/X_test.shape[0])\n",
    "\n",
    "        Train_miss.append((1. - Miss_calc(X_train, w_irls, C_train) / X_train.shape[0]))\n",
    "        Test_miss.append((1. - Miss_calc(X_test, w_irls, C_test) / X_test.shape[0]))\n",
    "\n",
    "        print (\"Loop Number:\",i)\n",
    "        # print Train, Test cost results\n",
    "        print(\"Train_cost: {:5.5f}, Test_cost: {:5.5f}\".format(Train_cost[-1], Test_cost[-1]))\n",
    "\n",
    "        #print Train, Test Missclassification results\n",
    "        print(\"Train_miss: {:5.5f}, Test_miss: {:5.5f}\".format(Train_miss[-1], Test_miss[-1]))\n",
    "        mag_ce = 0\n",
    "        mag_mc = 0\n",
    "        if i<4:\n",
    "            continue\n",
    "        for j in range(1,4):\n",
    "          #  if j >= i:\n",
    "           #     break\n",
    "            mag_ce += (Train_cost[-j] - Train_cost[-j-1])**2\n",
    "            mag_mc += (Train_miss[-j] - Train_miss[-j-1])**2\n",
    "        mag_ce = np.sqrt(mag_ce)\n",
    "        mag_mc = np.sqrt(mag_mc)\n",
    "        print('mag = {}'.format(mag_ce))\n",
    "        eps =0.1\n",
    "        eps2 = 0.001\n",
    "         #Stoping criteria, break as soon as the cost (i) > cost(i-1)\n",
    "        #if i ==0:\n",
    "         #   continue\n",
    "        if mag_ce < eps:\n",
    "            print (\"Brake at Train Cost\")\n",
    "            break\n",
    "       # if mag_mc<eps2:\n",
    "       #     print (\"Brake at Train Miss\")\n",
    "       #     break\n",
    "\n",
    "    plt.figure()\n",
    "    plt.title(\"CECF for IRLS\")\n",
    "    p1, = plt.plot(np.arange(len(Train_cost)), Train_cost, \"b-\")\n",
    "    p2, = plt.plot(np.arange(len(Test_cost)), Test_cost, \"r-\")\n",
    "    plt.legend([p1, p2], [\"Train set\", \"Test set\"])\n",
    "    plt.xlabel(\"Itterations\")\n",
    "\n",
    "    plt.figure()\n",
    "    plt.title(\" % Misclassification Eror for IRLS\")\n",
    "    p1, = plt.plot(np.arange(len(Train_miss)), Train_miss, \"b-\")\n",
    "    p2, = plt.plot(np.arange(len(Test_miss)), Test_miss, \"r-\")\n",
    "    plt.legend([p1, p2], [\"Train set\", \"Test set\"])\n",
    "    plt.xlabel(\"Itterations\")\n",
    "    plt.show()"
   ]
  },
  {
   "cell_type": "markdown",
   "metadata": {},
   "source": [
    "Recorder this as a lucky initialization vector for the non normalization method\n",
    "[-0.07522189 -0.47187254  0.0251952   0.16070165 -0.24246046  0.45377792\n",
    "  0.21868386 -0.20349243 -0.19054764  0.25656792  0.02873869 -0.04303408\n",
    "  0.05698867  0.1601489  -0.39855905 -0.12551777  0.37222477  0.17398986\n",
    "  0.28690428]"
   ]
  }
 ],
 "metadata": {
  "kernelspec": {
   "display_name": "Python 3",
   "language": "python",
   "name": "python3"
  },
  "language_info": {
   "codemirror_mode": {
    "name": "ipython",
    "version": 3
   },
   "file_extension": ".py",
   "mimetype": "text/x-python",
   "name": "python",
   "nbconvert_exporter": "python",
   "pygments_lexer": "ipython3",
   "version": "3.5.4"
  }
 },
 "nbformat": 4,
 "nbformat_minor": 2
}
