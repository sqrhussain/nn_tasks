{
 "cells": [
  {
   "cell_type": "code",
   "execution_count": 213,
   "metadata": {},
   "outputs": [],
   "source": [
    "import matplotlib.pyplot as plt\n",
    "import numpy as np\n",
    "import pickle as pkl\n",
    "import tensorflow as tf"
   ]
  },
  {
   "cell_type": "code",
   "execution_count": 214,
   "metadata": {},
   "outputs": [],
   "source": [
    "# %load nn17_ex3_main.py\n",
    "#!/usr/bin/env python3\n",
    "\n",
    "# Import Data\n",
    "\n",
    "# plt.close('all')  # if you like\n",
    "\n",
    "# load dataset\n",
    "\n",
    "with open('isolet_crop_train.pkl', 'rb') as f:\n",
    "    train_data = pkl.load(f)\n",
    "\n",
    "with open('isolet_crop_test.pkl', 'rb') as f:\n",
    "    test_data = pkl.load(f)\n",
    "\n",
    "X_train, y_train = train_data\n",
    "X_test, y_test = test_data\n",
    "\n",
    "y_train = y_train - 1 \n",
    "y_test = y_test - 1  \n",
    "\n",
    "# normalize the data and check the results\n",
    "\n",
    "# ...\n",
    "\n",
    "#print(X_train.mean(axis=0))\n",
    "#print(X_train.var(axis=0))\n",
    "\n",
    "# split the data sets, etc.\n",
    "\n",
    "# ..."
   ]
  },
  {
   "cell_type": "code",
   "execution_count": 215,
   "metadata": {},
   "outputs": [
    {
     "name": "stdout",
     "output_type": "stream",
     "text": [
      "Number of training examples = 6238\n",
      "Number of testing examples = 1559\n",
      "....\n",
      "Number of Training features = 300\n",
      "Number of Testing features = 300\n",
      "....\n",
      "Number of Training Classes = 26\n",
      "Number of Testing Classes = 26\n"
     ]
    }
   ],
   "source": [
    "# Get training Data statistics\n",
    "\n",
    "# Number of Training examples\n",
    "n_train = len(X_train)\n",
    "# Number of Testing examples\n",
    "n_test = len(X_test)\n",
    "# Number of Training features\n",
    "n_TrainFeatures = len(X_train[0])\n",
    "# Number of Testing features (should be equal to that of training)\n",
    "n_TestFeatures = len (X_test[0])\n",
    "# Number of Training classes\n",
    "n_TrainClasses =  len(np.unique(y_train))\n",
    "# Number of Testing Classes (should be equal to that of training)\n",
    "n_TestClasses = len(np.unique(y_test))\n",
    "\n",
    "print(\"Number of training examples =\", n_train)\n",
    "print(\"Number of testing examples =\", n_test)\n",
    "print(\"....\")\n",
    "print(\"Number of Training features =\", n_TrainFeatures)\n",
    "print(\"Number of Testing features =\", n_TestFeatures)\n",
    "print(\"....\")\n",
    "print(\"Number of Training Classes =\", n_TrainClasses)\n",
    "print(\"Number of Testing Classes =\", n_TestClasses)"
   ]
  },
  {
   "cell_type": "markdown",
   "metadata": {},
   "source": [
    "##  a) Make yourself familiar with the dataset. Normalize each feature to zero mean and unitvariance."
   ]
  },
  {
   "cell_type": "raw",
   "metadata": {},
   "source": [
    "#rfrom sklearn.preprocessing import StandardScaler\n",
    "#scaler = StandardScaler()\n",
    "\n",
    "#X_train, y_train = train_data\n",
    "#X_test, y_test = test_data\n",
    "\n",
    "#X_train = scaler.fit_transform(X_train)\n",
    "#X_test = scaler.fit_transform(X_test) "
   ]
  },
  {
   "cell_type": "code",
   "execution_count": 216,
   "metadata": {},
   "outputs": [],
   "source": [
    "#X_train, y_train = train_data\n",
    "#X_test, y_test = test_data\n",
    "\n",
    "X_mean = np.mean(X_train, axis=0)\n",
    "X_std = np.std(X_train, axis=0)\n",
    "\n",
    "# Training data normalization\n",
    "X_train = (X_train - X_mean) / X_std\n",
    "\n",
    "# Testing data normalization\n",
    "X_test = (X_test - X_mean) / X_std"
   ]
  },
  {
   "cell_type": "markdown",
   "metadata": {},
   "source": [
    "# Split Data"
   ]
  },
  {
   "cell_type": "code",
   "execution_count": 217,
   "metadata": {},
   "outputs": [],
   "source": [
    "from sklearn.utils import shuffle\n",
    "X_train, y_train = shuffle(X_train,y_train)\n",
    "\n",
    "from sklearn.model_selection import train_test_split\n",
    "# First split in 70% -- 30%\n",
    "X_train2, X_temp, y_train2, y_temp  = train_test_split(X_train, y_train, test_size=0.3, random_state=42)\n",
    "\n",
    "#Split the 30% into half to get 15% -- 15% (from X_train)for validation and early stop\n",
    "X_validation, X_stop, y_validation, y_stop = train_test_split(X_temp, y_temp, test_size=0.5, random_state=42)\n",
    "\n",
    "n_input = len(X_train2)"
   ]
  },
  {
   "cell_type": "code",
   "execution_count": 218,
   "metadata": {
    "scrolled": true
   },
   "outputs": [
    {
     "name": "stdout",
     "output_type": "stream",
     "text": [
      "(6238, 300)\n",
      "(6238,)\n",
      "(4366, 300)\n",
      "(4366,)\n",
      "(936, 300)\n",
      "(936,)\n",
      "(936, 300)\n",
      "(936,)\n"
     ]
    }
   ],
   "source": [
    "print(X_train.shape)\n",
    "print(y_train.shape)\n",
    "print(X_train2.shape)\n",
    "print(y_train2.shape)\n",
    "print(X_validation.shape)\n",
    "print(y_validation.shape)\n",
    "print(X_stop.shape)\n",
    "print(y_stop.shape)"
   ]
  },
  {
   "cell_type": "markdown",
   "metadata": {},
   "source": [
    "## one-out-of-K coding"
   ]
  },
  {
   "cell_type": "code",
   "execution_count": 219,
   "metadata": {},
   "outputs": [],
   "source": [
    "tf.reset_default_graph()\n",
    "\n",
    "x = tf.placeholder(tf.float32, (None, 300))\n",
    "y = tf.placeholder(tf.int32,(None))\n",
    "one_hot_y = tf.one_hot(y, 26)\n"
   ]
  },
  {
   "cell_type": "markdown",
   "metadata": {},
   "source": [
    "# Network"
   ]
  },
  {
   "cell_type": "code",
   "execution_count": 220,
   "metadata": {},
   "outputs": [],
   "source": [
    "\n",
    "def Train_Classifier(x, Layers = [20,26],activation = tf.sigmoid):\n",
    "    \n",
    "    print(\"In Traffic Sign Classifier.......................................................................... \\n\")\n",
    "    \n",
    "    n_hidden_layer1 =20 \n",
    "    \n",
    "    M = x.shape[1] #300\n",
    "    C = Layers[-1] #26\n",
    "    # n_input1, n_hidden_layer1 n_classes\n",
    "    n_layers = len(Layers)\n",
    "    Layers = np.insert(Layers,0,M)\n",
    "    W = []\n",
    "    b = []\n",
    "    a = []\n",
    "    z = [] \n",
    "\n",
    "    for i in range(n_layers):\n",
    "        W.append(tf.Variable(tf.truncated_normal([Layers[i], Layers[i+1]]),name='weights_{}'.format(i)))\n",
    "        b.append(tf.Variable(tf.zeros(Layers[i+1]),name='bias_{}'.format(i)))\n",
    "        if i == 0:\n",
    "            a.append(tf.add(tf.matmul(x,W[i]),b[i]))\n",
    "        else:\n",
    "            a.append(tf.add(tf.matmul(z[i-1],W[i]),b[i]))\n",
    "        z.append(activation(a[i]))\n",
    "    logits =  a[-1]\n",
    "    \n",
    "    return logits"
   ]
  },
  {
   "cell_type": "raw",
   "metadata": {},
   "source": [
    "indecies = np.unique(y_train)\n",
    "indecies = indecies -1\n",
    "depth = 27\n",
    "onehot = tf.one_hot(y_train,depth)\n",
    "sess = tf.Session()\n",
    "temp =sess.run(onehot)\n",
    "y_train = np.delete(temp,0,1)"
   ]
  },
  {
   "cell_type": "code",
   "execution_count": 221,
   "metadata": {},
   "outputs": [
    {
     "name": "stdout",
     "output_type": "stream",
     "text": [
      "In Traffic Sign Classifier.......................................................................... \n",
      "\n"
     ]
    }
   ],
   "source": [
    "rate = 0.1 # learning rate\n",
    "\n",
    "EPOCHS = 100\n",
    "BATCH_SIZE = 40\n",
    "\n",
    "logits = Train_Classifier(x,[100,26])#,n_TrainFeatures, n_TrainClasses)\n",
    "cross_entropy = tf.nn.softmax_cross_entropy_with_logits(labels=one_hot_y, logits=logits)\n",
    "loss_operation = tf.reduce_mean(cross_entropy)\n",
    "\n",
    "#optimizer = tf.train.RMSPropOptimizer(0.002)\n",
    "#optimizer = tf.train.AdamOptimizer(0.005)\n",
    "optimizer = tf.train.GradientDescentOptimizer(learning_rate=rate)\n",
    "\n",
    "training_operation = optimizer.minimize(loss_operation)\n",
    "\n",
    "#tf.train.RMSPropOptimizer(rate)\n",
    "#tf.train.AdamOptimizer()"
   ]
  },
  {
   "cell_type": "code",
   "execution_count": 222,
   "metadata": {},
   "outputs": [],
   "source": [
    "correct_prediction = tf.equal(tf.argmax(logits,1), tf.argmax(one_hot_y,1))\n",
    "accuracy_operation = tf.reduce_mean(tf.cast(correct_prediction, tf.float32))\n",
    "saver =tf.train.Saver()\n",
    "\n",
    "def evaluate(X_data, y_data):\n",
    "    num_examples = len(X_data)\n",
    "    total_accuracy = 0\n",
    "    sess = tf.get_default_session()\n",
    "    for offset in range(0, num_examples, BATCH_SIZE):\n",
    "        batch_x, batch_y = X_data[offset:offset+BATCH_SIZE], y_data[offset:offset+BATCH_SIZE]\n",
    "        accuracy = sess.run(accuracy_operation, feed_dict={x: batch_x, y: batch_y})\n",
    "        total_accuracy += (accuracy * len(batch_x))\n",
    "    return total_accuracy / num_examples\n",
    "    "
   ]
  },
  {
   "cell_type": "code",
   "execution_count": 223,
   "metadata": {},
   "outputs": [
    {
     "name": "stdout",
     "output_type": "stream",
     "text": [
      "Training...\n",
      "\n"
     ]
    }
   ],
   "source": [
    "save_file = './modelTest1.ckpt'\n",
    "with tf.Session() as sess:\n",
    "    sess.run(tf.global_variables_initializer())\n",
    "    num_examples = len(X_train2)\n",
    "    \n",
    "    TempValidat_acc_list = []\n",
    "    TempTrain_acc_list = []\n",
    "    TempEarlyStopping_acc_list = []\n",
    "    \n",
    "    validat_acc_list = []\n",
    "    train_acc_list = []\n",
    "    earlyStoping_acc_list = []\n",
    "    \n",
    "    earlyStoppingMax = -1\n",
    "    \n",
    "    print(\"Training...\")\n",
    "    print()\n",
    "    for i in range(EPOCHS):\n",
    "        \"\"\"\n",
    "        if len(validat_acc_list) > 1:\n",
    "            if validat_acc_list[-1] < validat_acc_list[-2] - 1e-3:\n",
    "                print(\"#############STOP################\")\n",
    "                break\n",
    "        \"\"\" \n",
    "        X_train21, y_train21 = shuffle(X_train2,y_train2)\n",
    "        for offset in range(0, num_examples, BATCH_SIZE):\n",
    "            end = offset + BATCH_SIZE\n",
    "            batch_x, batch_y = X_train21[offset:end], y_train21[offset:end]\n",
    "            sess.run(training_operation, feed_dict={x: batch_x, y: batch_y})\n",
    "            \n",
    "        validation_accuracy = evaluate(X_validation, y_validation)\n",
    "        training_accuracy = evaluate(X_train2, y_train2)\n",
    "        earlyStoping_accuracy = evaluate(X_stop,y_stop)\n",
    "        \n",
    "        if earlyStoppingMax < earlyStoping_accuracy:\n",
    "            earlyStoppingMax = earlyStoping_accuracy\n",
    "            #print('Best so far = {} on iteration {}'.format(earlyStoppingMax,i))\n",
    "            saver.save(sess,save_file)\n",
    "            #print(sess.run(tempw))\n",
    "        \n",
    "        TempValidat_acc_list.append(validation_accuracy)\n",
    "        TempTrain_acc_list.append(training_accuracy)\n",
    "        TempEarlyStopping_acc_list.append(earlyStoping_accuracy)\n",
    "        \n",
    "        #if i%1 == 0:\n",
    "        validat_acc_list.append(np.mean(TempValidat_acc_list))\n",
    "        TempValidat_acc_list = []\n",
    "\n",
    "        train_acc_list.append(np.mean(TempTrain_acc_list))\n",
    "        TempTrain_acc_list = []           \n",
    "\n",
    "        earlyStoping_acc_list.append(np.mean(TempEarlyStopping_acc_list))\n",
    "        TempEarlyStopping_acc_list = []  \n",
    "\n",
    "            #print(\"EPOCH {} ...\".format(i+1))\n",
    "            #print(\"Validation Accuracy = {:.3f}\".format(validation_accuracy))\n",
    "\n",
    "        \n",
    "        \n",
    "\n",
    "    #saver.save(sess, save_file)\n",
    "    #print(\"Model saved\")"
   ]
  },
  {
   "cell_type": "code",
   "execution_count": 224,
   "metadata": {},
   "outputs": [
    {
     "data": {
      "image/png": "[encoded data removed]",
      "text/plain": [
       "<matplotlib.figure.Figure at 0x1b056ee9940>"
      ]
     },
     "metadata": {},
     "output_type": "display_data"
    }
   ],
   "source": [
    "plt.plot(1-np.array(train_acc_list))\n",
    "plt.plot(1-np.array(validat_acc_list),'r--')\n",
    "plt.plot(1-np.array(earlyStoping_acc_list),'g-.')\n",
    "plt.show()"
   ]
  },
  {
   "cell_type": "code",
   "execution_count": 165,
   "metadata": {},
   "outputs": [
    {
     "data": {
      "image/png": "[encoded data removed]",
      "text/plain": [
       "<matplotlib.figure.Figure at 0x2e8670fd518>"
      ]
     },
     "metadata": {},
     "output_type": "display_data"
    }
   ],
   "source": [
    "plt.plot(validat_acc_list)\n",
    "plt.show()"
   ]
  },
  {
   "cell_type": "code",
   "execution_count": null,
   "metadata": {},
   "outputs": [],
   "source": [
    "plt.plot(validat_acc_list)\n",
    "plt.show()"
   ]
  },
  {
   "cell_type": "code",
   "execution_count": null,
   "metadata": {},
   "outputs": [],
   "source": [
    "plt.plot(earlyStoping_acc_list)\n",
    "plt.show()"
   ]
  },
  {
   "cell_type": "code",
   "execution_count": null,
   "metadata": {},
   "outputs": [],
   "source": [
    "plt.plot(earlyStoping_acc_list)\n",
    "plt.show()"
   ]
  },
  {
   "cell_type": "code",
   "execution_count": null,
   "metadata": {},
   "outputs": [],
   "source": [
    "\n",
    "#tf.reset_default_graph()\n",
    "n_hidden_layer1 =20 \n",
    "\n",
    "n_input1 = n_TrainFeatures #300\n",
    "n_classes = n_TrainClasses #26\n",
    "# n_input1, n_hidden_layer1 n_classes\n",
    "\n",
    "tf.reset_default_graph()\n",
    "\n",
    "layer1_W = tf.Variable(tf.truncated_normal([n_input1, n_hidden_layer1]),name='weights_1')\n",
    "layer1_b = tf.Variable(tf.zeros(n_hidden_layer1),name='bias_1')\n",
    "\n",
    "\n",
    "# Layer 2: Output layer\n",
    "layer2_W = tf.Variable(tf.truncated_normal([n_hidden_layer1, n_classes]),name='weights_2')\n",
    "layer2_b = tf.Variable(tf.zeros(n_classes),name='bias_2')\n",
    "\n",
    "saver = tf.train.Saver()\n",
    "with tf.Session() as sess:\n",
    "\n",
    "    saver.restore(sess, save_file)\n",
    "    #evaluate(X_stop,y_stop);\n",
    "    temp = (sess.run(layer1_W))\n",
    "print('Loaded Weights successfully.')"
   ]
  },
  {
   "cell_type": "raw",
   "metadata": {},
   "source": [
    "\n",
    "\n",
    "fig,ax_list = plt.subplots(1,2)\n",
    "ax_list[0].plot(train_error_list, color='blue', label='training', lw=2)\n",
    "ax_list[0].plot(test_error_list, color='green', label='test', lw=2)\n",
    "ax_list[1].plot(1- np.array(train_acc_list), color='blue', label='training', lw=2)\n",
    "ax_list[1].plot(1 - np.array(test_acc_list), color='green', label='test', lw=2)\n",
    "\n",
    "ax_list[0].set_title('Cross-entropy')\n",
    "ax_list[0].set_xlabel('Training epoch')\n",
    "ax_list[0].set_ylabel('Cross-entropy')\n",
    "ax_list[1].set_title('Accuracy')\n",
    "ax_list[1].set_xlabel('Training epoch')\n",
    "ax_list[1].set_ylabel('Accuracy')\n",
    "ax_list[0].legend(loc='best')\n",
    "ax_list[1].legend(loc='best')\n",
    "plt.show()"
   ]
  },
  {
   "cell_type": "code",
   "execution_count": null,
   "metadata": {},
   "outputs": [],
   "source": [
    "import tensorflow as tf\n",
    "\n",
    "tf.reset_default_graph()\n",
    "\n",
    "save_file = './Test2.ckpt'\n",
    "\n",
    "# Two Tensor Variables: weights and bias\n",
    "\n",
    "bias = tf.Variable(tf.truncated_normal([3]))\n",
    "weights = tf.Variable(tf.truncated_normal([2, 3]))\n",
    "\n",
    "saver = tf.train.Saver()\n",
    "\n",
    "# Print the name of Weights and Bias\n",
    "print('Save Weights: {}'.format(weights))\n",
    "print('Save Bias: {}'.format(bias))\n",
    "\n",
    "with tf.Session() as sess:\n",
    "    sess.run(tf.global_variables_initializer())\n",
    "    saver.save(sess, save_file)\n",
    "\n",
    "# Remove the previous weights and bias\n",
    "tf.reset_default_graph()\n",
    "\n",
    "# Two Variables: weights and bias\n",
    "bias = tf.Variable(tf.truncated_normal([3]))\n",
    "weights = tf.Variable(tf.truncated_normal([2, 3]))\n",
    "\n",
    "saver = tf.train.Saver()\n",
    "\n",
    "# Print the name of Weights and Bias\n",
    "print('Load Weights: {}'.format(weights))\n",
    "print('Load Bias: {}'.format(bias))\n",
    "\n",
    "with tf.Session() as sess:\n",
    "    # Load the weights and bias - No Error\n",
    "    saver.restore(sess, save_file)\n",
    "\n",
    "print('Loaded Weights and Bias successfully.')"
   ]
  },
  {
   "cell_type": "code",
   "execution_count": null,
   "metadata": {},
   "outputs": [],
   "source": [
    "import tensorflow as tf\n",
    "\n",
    "tf.reset_default_graph()\n",
    "\n",
    "save_file = './Test.ckpt'\n",
    "\n",
    "# Two Tensor Variables: weights and bias\n",
    "weights = tf.Variable(tf.truncated_normal([2, 3]), name='weights_0')\n",
    "bias = tf.Variable(tf.truncated_normal([3]), name='bias_0')\n",
    "\n",
    "saver = tf.train.Saver()\n",
    "\n",
    "# Print the name of Weights and Bias\n",
    "print('Save Weights: {}'.format(weights.name))\n",
    "print('Save Bias: {}'.format(bias.name))\n",
    "\n",
    "with tf.Session() as sess:\n",
    "    sess.run(tf.global_variables_initializer())\n",
    "    saver.save(sess, save_file)\n",
    "\n",
    "# Remove the previous weights and bias\n",
    "tf.reset_default_graph()\n",
    "\n",
    "# Two Variables: weights and bias\n",
    "bias = tf.Variable(tf.truncated_normal([3]), name='bias_0')\n",
    "weights = tf.Variable(tf.truncated_normal([2, 3]) ,name='weights_0')\n",
    "\n",
    "saver = tf.train.Saver()\n",
    "\n",
    "# Print the name of Weights and Bias\n",
    "print('Load Weights: {}'.format(weights.name))\n",
    "print('Load Bias: {}'.format(bias.name))\n",
    "\n",
    "with tf.Session() as sess:\n",
    "    # Load the weights and bias - No Error\n",
    "    saver.restore(sess, save_file)\n",
    "\n",
    "print('Loaded Weights and Bias successfully.')"
   ]
  }
 ],
 "metadata": {
  "kernelspec": {
   "display_name": "Python 3",
   "language": "python",
   "name": "python3"
  },
  "language_info": {
   "codemirror_mode": {
    "name": "ipython",
    "version": 3
   },
   "file_extension": ".py",
   "mimetype": "text/x-python",
   "name": "python",
   "nbconvert_exporter": "python",
   "pygments_lexer": "ipython3",
   "version": "3.5.3"
  }
 },
 "nbformat": 4,
 "nbformat_minor": 2
}
